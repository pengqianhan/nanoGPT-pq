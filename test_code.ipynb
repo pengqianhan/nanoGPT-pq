{
 "cells": [
  {
   "cell_type": "code",
   "execution_count": 1,
   "metadata": {},
   "outputs": [
    {
     "name": "stdout",
     "output_type": "stream",
     "text": [
      "True\n",
      "True\n",
      "/mnt/DataSets/phan635/nanoGPT2/model_dir/file.txt\n",
      "/mnt/DataSets/phan635/nanoGPT2/model_dir/file.txt\n"
     ]
    }
   ],
   "source": [
    "import os\n",
    "\n",
    "path1 = '/mnt/DataSets/phan635/nanoGPT2/model_dir/'\n",
    "path2 = '/mnt/DataSets/phan635/nanoGPT2/model_dir'\n",
    "\n",
    "print(os.path.isdir(path1))  # True\n",
    "print(os.path.isdir(path2))  # True\n",
    "\n",
    "# 路径拼接\n",
    "print(os.path.join(path1, 'file.txt'))  # '/mnt/DataSets/phan635/nanoGPT2/model_dir/file.txt'\n",
    "print(os.path.join(path2, 'file.txt'))  # '/mnt/DataSets/phan635/nanoGPT2/model_dir/file.txt'"
   ]
  },
  {
   "cell_type": "code",
   "execution_count": null,
   "metadata": {},
   "outputs": [],
   "source": []
  }
 ],
 "metadata": {
  "kernelspec": {
   "display_name": "vnn",
   "language": "python",
   "name": "python3"
  },
  "language_info": {
   "codemirror_mode": {
    "name": "ipython",
    "version": 3
   },
   "file_extension": ".py",
   "mimetype": "text/x-python",
   "name": "python",
   "nbconvert_exporter": "python",
   "pygments_lexer": "ipython3",
   "version": "3.12.4"
  }
 },
 "nbformat": 4,
 "nbformat_minor": 2
}
